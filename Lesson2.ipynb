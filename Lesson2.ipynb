{
 "cells": [
  {
   "cell_type": "markdown",
   "metadata": {},
   "source": [
    "### Initialize"
   ]
  },
  {
   "cell_type": "markdown",
   "metadata": {},
   "source": [
    "Your first peek to MEG data with Python.\n",
    "Let's first set up the necessary modules - you know this already!\n",
    "The last line is for defining plotting behavior.\n"
   ]
  },
  {
   "cell_type": "code",
   "execution_count": null,
   "metadata": {
    "collapsed": true
   },
   "outputs": [],
   "source": [
    "import mne\n",
    "import numpy as np\n",
    "import sys\n",
    "%matplotlib notebook\n",
    "#import matplotlib.pyplot as plt"
   ]
  },
  {
   "cell_type": "markdown",
   "metadata": {},
   "source": [
    "### Load the MEG raw data\n"
   ]
  },
  {
   "cell_type": "markdown",
   "metadata": {},
   "source": [
    "We use here some raw data from the \"multimodal\" public data set. This is available via the MNE-Python module and pre-loaded here, so no need to import your own.\n",
    "\n",
    "First, we need to tell the path of the data file, which is nicely available programmatically.\n",
    "Then, we will use the FIF-file type specific function to read the raw data to a variable called _raw_. We will later check how this data is organized."
   ]
  },
  {
   "cell_type": "code",
   "execution_count": null,
   "metadata": {
    "collapsed": false,
    "scrolled": false
   },
   "outputs": [],
   "source": [
    "fname= mne.datasets.multimodal.get_path() + \"/MEG/sample/sample_audvis_raw.fif\"\n",
    "raw=mne.io.read_raw_fif(fname, allow_maxshield=False, preload=True, verbose=True)\n"
   ]
  },
  {
   "cell_type": "markdown",
   "metadata": {},
   "source": [
    "### Check data info"
   ]
  },
  {
   "cell_type": "markdown",
   "metadata": {},
   "source": [
    "One important feature in MNE-Python is the data info. It is a struct that contains important information (metadata) about that instance of MEG data. What is a struct? It is a Python datatype, where the data object has _keys_ that can be referred to by _names_. Each keyword corresponds to a value, which can be of any data type. Let's see how this works in practice."
   ]
  },
  {
   "cell_type": "code",
   "execution_count": null,
   "metadata": {},
   "outputs": [],
   "source": [
    "print(raw.info)"
   ]
  },
  {
   "cell_type": "markdown",
   "metadata": {},
   "source": [
    "# plot raw data"
   ]
  },
  {
   "cell_type": "code",
   "execution_count": null,
   "metadata": {
    "collapsed": false
   },
   "outputs": [],
   "source": [
    "#R=raw.copy().crop(100,150).filter(h_freq=80, l_freq=None, filter_length='auto', fir_design='firwin', phase='zero')\n",
    "# butterfly=False, group_by='selection'\n",
    "raw.plot(decim='auto', show_first_samp=True, lowpass=80, scalings='auto', duration=20);"
   ]
  },
  {
   "cell_type": "markdown",
   "metadata": {},
   "source": [
    "# plot spectra"
   ]
  },
  {
   "cell_type": "code",
   "execution_count": null,
   "metadata": {
    "collapsed": false,
    "scrolled": false
   },
   "outputs": [],
   "source": [
    "raw.plot_psd(tmax=np.inf, average=False);\n",
    "# OR\n",
    "\"\"\"\n",
    "R=raw.copy().pick_types(meg='mag')\n",
    "nfft=np.int16(2*R.info['sfreq'])\n",
    "R.plot_psd_topo(tmin=0, tmax=100, fmin=1, fmax=50, proj=True, n_fft=nfft, n_jobs=8, color='k',\n",
    "                  fig_facecolor='w', axis_facecolor='w', layout=mne.channels.read_layout('Vectorview-mag.lout'));\n",
    "R=raw.copy().pick_types(meg='grad')\n",
    "R.plot_psd_topo(tmin=0, tmax=100, fmin=1, fmax=50, proj=True, n_fft=nfft, n_jobs=8, color='k',\n",
    "                  fig_facecolor='w', axis_facecolor='w', layout=mne.channels.read_layout('Vectorview-grad.lout'));\n",
    "\"\"\";"
   ]
  },
  {
   "cell_type": "markdown",
   "metadata": {},
   "source": [
    "# run ICA for artefacts"
   ]
  },
  {
   "cell_type": "code",
   "execution_count": null,
   "metadata": {
    "collapsed": false,
    "scrolled": false
   },
   "outputs": [],
   "source": [
    "# Hint: click on the topomap to reveal further properties\n",
    "# User parameters:\n",
    "n_ica_comp=40 # can be relative (float) or absolute (int)\n",
    "\n",
    "#from mne.preprocessing import create_eog_epochs, create_ecg_epochs?\n",
    "# 1Hz high pass is often helpful for fitting ICA\n",
    "# use also low-pass to possibly get neater components\n",
    "np.random.seed(0)\n",
    "R=raw.copy().filter(l_freq=1, h_freq=80, n_jobs=4, fir_design='firwin',\n",
    "                                               filter_length='auto', phase='zero')\n",
    "picks_meg = mne.pick_types(R.info, meg=True, eeg=False, eog=False, stim=False, exclude='bads')\n",
    "reject_ica={'mag': 5e-12, 'grad': 5e-10}\n",
    "ica = ICA(n_components=n_ica_comp, method='fastica')\n",
    "ica.fit(R, picks=picks_meg, decim=3, reject=reject_ica, verbose=True)\n",
    "#plt.subplot(2,1,1);\n",
    "ica.plot_components(colorbar=True, image_interp='bilinear', inst=R, picks=range(ica.n_components));\n",
    "#plt.close(fig1)\n",
    "#plt.subplot(2,1,2);\n",
    "ica.plot_sources(R, start=0, stop=ica.n_components);\n",
    "#plt.show(fig2)\n",
    "#plt.close(fig2)\n",
    "#plt.close()"
   ]
  },
  {
   "cell_type": "code",
   "execution_count": null,
   "metadata": {
    "collapsed": false
   },
   "outputs": [],
   "source": [
    "rm_inds=input('Please give the indices of components to remove: ')\n",
    "ica.exclude = np.array(rm_inds)\n",
    "#ica.exclude.extend(ica.exclude)\n",
    "print('Excluded components = %s' %ica.exclude)\n",
    "ica.apply(raw)\n",
    "print('ICA applied (%s components removed)' %ica.exclude)\n",
    "ica.plot_overlay(R, exclude=ica.exclude, stop=5000);"
   ]
  },
  {
   "cell_type": "markdown",
   "metadata": {},
   "source": [
    "# find and show events"
   ]
  },
  {
   "cell_type": "code",
   "execution_count": null,
   "metadata": {
    "collapsed": false,
    "scrolled": false
   },
   "outputs": [],
   "source": [
    "events=mne.find_events(raw)\n",
    "mne.viz.plot_events(events, sfreq=raw.info['sfreq'], color=None);"
   ]
  },
  {
   "cell_type": "code",
   "execution_count": null,
   "metadata": {
    "collapsed": false
   },
   "outputs": [],
   "source": [
    "epochs=mne.Epochs(raw.filter(l_freq=0.5,h_freq=40), events, tmin=-0.2, tmax=0.5, baseline=(None,0))\n",
    "evokeds={str(id): epochs[str(id)].average() for id in set(events[:,2])}\n",
    "mne.viz.plot_compare_evokeds(evokeds, picks=mne.pick_types(raw.info,meg='grad'));"
   ]
  }
 ],
 "metadata": {
  "kernelspec": {
   "display_name": "mne130",
   "language": "python",
   "name": "python3"
  },
  "language_info": {
   "codemirror_mode": {
    "name": "ipython",
    "version": 3
   },
   "file_extension": ".py",
   "mimetype": "text/x-python",
   "name": "python",
   "nbconvert_exporter": "python",
   "pygments_lexer": "ipython3",
   "version": "3.10.8"
  }
 },
 "nbformat": 4,
 "nbformat_minor": 0
}
