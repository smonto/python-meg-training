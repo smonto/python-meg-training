{
 "cells": [
  {
   "cell_type": "code",
   "execution_count": null,
   "metadata": {
    "vscode": {
     "languageId": "plaintext"
    }
   },
   "outputs": [],
   "source": [
    "# Hint: click on the topomap to reveal further properties\n",
    "# User parameters:\n",
    "n_ica_comp=40 # can be relative (float) or absolute (int)\n",
    "\n",
    "#from mne.preprocessing import create_eog_epochs, create_ecg_epochs?\n",
    "# 1Hz high pass is often helpful for fitting ICA\n",
    "# use also low-pass to possibly get neater components\n",
    "np.random.seed(0)\n",
    "R=raw.copy().filter(l_freq=1, h_freq=80, n_jobs=4, fir_design='firwin',\n",
    "                                               filter_length='auto', phase='zero')\n",
    "picks_meg = mne.pick_types(R.info, meg=True, eeg=False, eog=False, stim=False, exclude='bads')\n",
    "reject_ica={'mag': 5e-12, 'grad': 5e-10}\n",
    "ica = ICA(n_components=n_ica_comp, method='fastica')\n",
    "ica.fit(R, picks=picks_meg, decim=3, reject=reject_ica, verbose=True)\n",
    "#plt.subplot(2,1,1);\n",
    "ica.plot_components(colorbar=True, image_interp='bilinear', inst=R, picks=range(ica.n_components));\n",
    "#plt.close(fig1)\n",
    "#plt.subplot(2,1,2);\n",
    "ica.plot_sources(R, start=0, stop=ica.n_components);\n",
    "#plt.show(fig2)\n",
    "#plt.close(fig2)\n",
    "#plt.close()"
   ]
  },
  {
   "cell_type": "code",
   "execution_count": null,
   "metadata": {
    "vscode": {
     "languageId": "plaintext"
    }
   },
   "outputs": [],
   "source": [
    "rm_inds=input('Please give the indices of components to remove: ')\n",
    "ica.exclude = np.array(rm_inds)\n",
    "#ica.exclude.extend(ica.exclude)\n",
    "print('Excluded components = %s' %ica.exclude)\n",
    "ica.apply(raw)\n",
    "print('ICA applied (%s components removed)' %ica.exclude)\n",
    "ica.plot_overlay(R, exclude=ica.exclude, stop=5000);"
   ]
  }
 ],
 "metadata": {
  "language_info": {
   "name": "python"
  }
 },
 "nbformat": 4,
 "nbformat_minor": 2
}
