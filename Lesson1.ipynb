{
 "cells": [
  {
   "cell_type": "markdown",
   "metadata": {},
   "source": [
    "### Hello user!\n",
    "\n",
    "Welcome to learn how to use Python and Jupyter Notebooks for your MEG data analyses, and congratulations for getting this far!\n",
    "This file is a Python Notebook file (_.ipynb_), which stores both text parts (\"Markdown\") and code in units called cells. You are now reading the first text cell of this Notebook. Right below, you can see a code cell. The notebooks are handy for learning and code development, because you can see the code snippets and outputs intermixed with some explanations. You can also re-run the parts that you like and distribute the notebooks.\n",
    "\n",
    "Below you can see the simplest piece of code, which will print the words _\"Hello world!\"_. Execute it using <Ctrl> + <Enter>, and if all goes well you can see a greeting as a response!"
   ]
  },
  {
   "cell_type": "code",
   "execution_count": null,
   "metadata": {},
   "outputs": [],
   "source": [
    "print(\"Hello world!\")"
   ]
  },
  {
   "cell_type": "markdown",
   "metadata": {},
   "source": [
    "Do you see the greeting above this text? Now try to edit the code, so that it greets you instead of the world. \n",
    "You can do some basic calculations in Python as well, like 2^3:"
   ]
  },
  {
   "cell_type": "code",
   "execution_count": null,
   "metadata": {},
   "outputs": [],
   "source": [
    "2**3"
   ]
  },
  {
   "cell_type": "markdown",
   "metadata": {},
   "source": [
    "Did you get the answer? Now make your own code cell using either the keybind \"B\" or select \"Add cell below\" from the cell's context menu. Make an addition, for example 42+57 and execute. Simple!\n",
    "Technically, running those cells calls a Python kernel to work. Kernel is a software engine between you and the programming language interpreter. Without Python kernel, the cells could not do anything.\n",
    "In addition to math, Python can do many other things, like opening and writing files. You can check the [Python standard library](https://docs.python.org/3/library/index.html) to get an idea of the capabilities.\n",
    "\n",
    "However, to do something more fancy in an efficient way, we need to use additional software libraries. This is called importing _modules_. In this tutorial, we will use the fabulous _MNE-Python_ package. [Enthusiastic researchers and engineers](https://mne.tools/stable/credit.html) have written this module and opened it to public. To use any module in Python, it has to be installed on the machine you are working on. To install it on your own computer, check the [installation instructions](https://mne.tools/stable/install/index.html) on the project home page. If you work on a server, it is probably the responsibility of someone else to install the software. For this training, the on-line notebook server (Binder.org) has already been asked to equip itself with MNE-Python.\n",
    "\n",
    "First, to practice how the modules work, let's import the widely used [NumPy module](https://numpy.org) for numeric processing. This gives you an implementation of many mathematical functions, as well as other objects, such as arrays and constants.\n",
    "\n",
    "To start using NumPy, command _import numpy as np_."
   ]
  },
  {
   "cell_type": "code",
   "execution_count": 3,
   "metadata": {},
   "outputs": [],
   "source": [
    "import numpy as np"
   ]
  },
  {
   "cell_type": "markdown",
   "metadata": {},
   "source": [
    "What just happened? Well, we told the Python interpreter that we want to use the code base that is available in the NumPy module. Technically, this created a _namespace_, which means that you can refer to the module and everything inside it by using it's name. Here, however, we asked to not call it by the default name numpy, but by a shorter alias, _np_.\n",
    "\n",
    "**Note**: if you get an error indicating that the module could not be imported, you need to make sure that NumPy is correctly installed on the computer / environment / interpreter you are currently working on."
   ]
  },
  {
   "cell_type": "markdown",
   "metadata": {},
   "source": [
    "We will now check how lists and arrays look in Python. This is important, as also MEG data is usually stored and processed as arrays (time series vectors, channel-by-time matrices, or even with > 3 dimensions).\n",
    "\n",
    "Basic Python data type of list is formed using brackets: list1 = [1, 2, 4, a, b]. The ndarray is a common numeric datatype in NumPy. Elements can be referred to in many ways, but most often by their index. Check the examples below!"
   ]
  },
  {
   "cell_type": "code",
   "execution_count": null,
   "metadata": {},
   "outputs": [],
   "source": [
    "mylist = [1, 2, \"a\", \"cat\"]\n",
    "print(mylist)\n",
    "print(\"The first index is:\")\n",
    "print(mylist[0])\n",
    "print(\"The last index is:\")\n",
    "print(mylist[-1])"
   ]
  },
  {
   "cell_type": "code",
   "execution_count": null,
   "metadata": {},
   "outputs": [],
   "source": [
    "arr = np.array([[0, 1, 2], [1, np.sqrt(2), np.pi], [-np.inf, 1/100, 2e5]])\n",
    "print(arr)\n",
    "print(\"The maximum value in this array is:\")\n",
    "print(arr.max())\n",
    "print(\"The value in the center of this array is:\")\n",
    "print(arr[1,1])"
   ]
  },
  {
   "cell_type": "markdown",
   "metadata": {},
   "source": [
    "Next, let's try out MNE-Python. Remember, first import the module. Then, we can check if the imported module, now called _mne_, actually works:"
   ]
  },
  {
   "cell_type": "code",
   "execution_count": null,
   "metadata": {},
   "outputs": [],
   "source": [
    "import mne\n",
    "mne.sys_info()"
   ]
  },
  {
   "cell_type": "markdown",
   "metadata": {},
   "source": [
    "Here, by calling the function _sys_info_(), we asked mne in which kind of environment it currently lives. The output describes the computer your MNE-Python is running in and tells the version of MNE that is installed and found. In addition, the listed additional packages, such as matplotlib affect MNE capabilities and behavior in some instances."
   ]
  }
 ],
 "metadata": {
  "kernelspec": {
   "display_name": "mne130",
   "language": "python",
   "name": "python3"
  },
  "language_info": {
   "codemirror_mode": {
    "name": "ipython",
    "version": 3
   },
   "file_extension": ".py",
   "mimetype": "text/x-python",
   "name": "python",
   "nbconvert_exporter": "python",
   "pygments_lexer": "ipython3",
   "version": "3.10.8"
  }
 },
 "nbformat": 4,
 "nbformat_minor": 2
}
