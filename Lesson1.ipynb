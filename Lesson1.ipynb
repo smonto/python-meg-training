{
 "cells": [
  {
   "cell_type": "markdown",
   "metadata": {},
   "source": [
    "### Hello user!\n",
    "\n",
    "Welcome to learn how to use Python and Jupyter Notebooks for your MEG data analyses, and congratulations for getting this far!\n",
    "This file is a Notebook file (_.ipynb_), which stores both text parts (\"Markdown\") and code in executable units called cells. You are now reading the first text cell of this Notebook. Right below, you can see a code cell. It is the simplest piece of code, printing the words _\"Hello world!\"_. Execute it, and if all goes well you can see those words as a response!"
   ]
  },
  {
   "cell_type": "code",
   "execution_count": null,
   "metadata": {},
   "outputs": [],
   "source": [
    "print(\"Hello world!\")"
   ]
  },
  {
   "cell_type": "markdown",
   "metadata": {},
   "source": [
    "You can do some things in Python without any additional packages, such as basic calculations like 2^3:"
   ]
  },
  {
   "cell_type": "code",
   "execution_count": null,
   "metadata": {},
   "outputs": [],
   "source": [
    "2**3"
   ]
  },
  {
   "cell_type": "markdown",
   "metadata": {},
   "source": [
    "However, to do something more fancy, we need to import modules. Here, we will use the fabulous _MNE-Python_ package."
   ]
  },
  {
   "cell_type": "code",
   "execution_count": null,
   "metadata": {},
   "outputs": [],
   "source": [
    "import mne"
   ]
  },
  {
   "cell_type": "markdown",
   "metadata": {},
   "source": [
    "What just happened? Well, we told the Python interpreter that we want to use the code that is available in MNE-Python. Technically, this created a _namespace_, which means that you can refer to the MNE module using the name _mne_.\n",
    "\n",
    "**Note**: if you get an error indicating that the module could not be imported, you need to install MNE-Python on the computer / environment / interpreter you are currently working on. Check [mne.tools](https://mne.tools/stable/install/index.html) and/or with your local IT specialist.\n",
    "\n",
    "Below is a simple example of checking the imported MNE module, now called _mne_:"
   ]
  },
  {
   "cell_type": "code",
   "execution_count": null,
   "metadata": {},
   "outputs": [],
   "source": [
    "mne.sys_info()"
   ]
  },
  {
   "cell_type": "markdown",
   "metadata": {},
   "source": [
    "Here, by calling the function _sys_info_(), we asked mne in which kind of environment it currently lives. The output depends on the computer your Python is running in, as well as the version of MNE that is installed. In addition, the listed additional packages (such as matplotlib) affect MNE capabilities and behavior. "
   ]
  }
 ],
 "metadata": {
  "kernelspec": {
   "display_name": "Python 3",
   "language": "python",
   "name": "python3"
  },
  "language_info": {
   "codemirror_mode": {
    "name": "ipython",
    "version": 3
   },
   "file_extension": ".py",
   "mimetype": "text/x-python",
   "name": "python",
   "nbconvert_exporter": "python",
   "pygments_lexer": "ipython3",
   "version": "3.9.6"
  }
 },
 "nbformat": 4,
 "nbformat_minor": 2
}
